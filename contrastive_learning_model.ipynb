{
 "cells": [
  {
   "cell_type": "code",
   "execution_count": 24,
   "id": "51be6bd0-98cb-4ffd-9b54-7a323c50fb6b",
   "metadata": {},
   "outputs": [],
   "source": [
    "import pandas as pd\n",
    "import numpy as np\n",
    "import torch\n",
    "from torch import nn\n",
    "import torch.nn.functional as F\n",
    "from torch.utils.data import Dataset, DataLoader\n",
    "from sklearn.model_selection import train_test_split\n",
    "from transformers import AutoTokenizer, AutoModel, AdamW, get_linear_schedule_with_warmup"
   ]
  },
  {
   "cell_type": "code",
   "execution_count": 25,
   "id": "f5d7aa28-f047-416f-9982-90ce872d001d",
   "metadata": {},
   "outputs": [],
   "source": [
    "class ContrastiveModel(nn.Module):\n",
    "    def __init__(self, model_name='distilbert-base-uncased', embedding_dim=768):\n",
    "        super(ContrastiveModel, self).__init__()\n",
    "        self.encoder = AutoModel.from_pretrained(model_name)\n",
    "        self.proj = nn.Linear(embedding_dim, 512)\n",
    "\n",
    "    def mean_pooling(self, model_output, attention_mask):\n",
    "        # Average token embeddings\n",
    "        token_embeddings = model_output[0]\n",
    "        input_mask_expanded = attention_mask.unsqueeze(-1).expand(token_embeddings.size()).float()\n",
    "        sum_embeddings = torch.sum(token_embeddings * input_mask_expanded, 1)\n",
    "        sum_mask = torch.clamp(input_mask_expanded.sum(1), min=1e-9)\n",
    "        return sum_embeddings / sum_mask\n",
    "\n",
    "    def forward(self, input_ids, attention_mask):\n",
    "        # Forward pass\n",
    "\n",
    "        # Get contextual representations\n",
    "        outputs = self.encoder(input_ids=input_ids, attention_mask=attention_mask)\n",
    "\n",
    "        # Combine encoder outputs into one sentence level embedding\n",
    "        embeddings = self.mean_pooling(outputs, attention_mask)\n",
    "\n",
    "        # map embeddings from bert native to 512\n",
    "        embeddings = self.proj(embeddings)\n",
    "        # L2 normalization\n",
    "        embedding = F.normalize(embeddings, p=2, dim=1)\n",
    "\n",
    "        return embeddings"
   ]
  },
  {
   "cell_type": "code",
   "execution_count": 26,
   "id": "1aada0c0-433e-48a2-b658-4ebe9ca7aadf",
   "metadata": {},
   "outputs": [],
   "source": [
    "model = ContrastiveModel()\n",
    "test_id = torch.randint(0, 1000, (2,128))\n",
    "test_mask = torch.ones_like(test_id)\n",
    "embeddings = model(test_id, test_mask)"
   ]
  },
  {
   "cell_type": "code",
   "execution_count": 29,
   "id": "968ce4d2-d957-42df-87aa-f35d5b6319f6",
   "metadata": {},
   "outputs": [
    {
     "data": {
      "text/plain": [
       "torch.Size([2, 512])"
      ]
     },
     "execution_count": 29,
     "metadata": {},
     "output_type": "execute_result"
    }
   ],
   "source": [
    "embeddings.shape"
   ]
  },
  {
   "cell_type": "code",
   "execution_count": 43,
   "id": "4fc13378-cbf5-421b-a191-fd4830ec3287",
   "metadata": {},
   "outputs": [],
   "source": [
    "class ContrastiveLoss(nn.Module):\n",
    "    def __init__(self, margin=0.5, loss_type='contrastive'):\n",
    "        super(ContrastiveLoss, self).__init__()\n",
    "        self.margin = margin\n",
    "        self.loss_type = loss_type\n",
    "\n",
    "    def forward(self, anchor, positive, negative=None, labels=None):\n",
    "        if self.loss_type == 'contrastive':\n",
    "            distances = torch.norm(anchor - positive, dim=1)\n",
    "            \n",
    "            # For positive labels minimize, for negative ensure distance is at least margin\n",
    "            losses = labels * distances + (1 -labels) * F.relu(self.margin - distances)\n",
    "            return losses.mean()\n",
    "            \n",
    "        elif self.loss_type == 'cosine':\n",
    "            cos_sim = F.cosine_similarity(anchor, positive)\n",
    "            # maximize similarity\n",
    "            return -cos_sim.mean()\n",
    "        "
   ]
  },
  {
   "cell_type": "code",
   "execution_count": 47,
   "id": "24b36b92-04e1-41fb-91ea-dd9771d0fe4e",
   "metadata": {},
   "outputs": [
    {
     "data": {
      "text/plain": [
       "0.7039779424667358"
      ]
     },
     "execution_count": 47,
     "metadata": {},
     "output_type": "execute_result"
    }
   ],
   "source": [
    "loss_fn = ContrastiveLoss(margin=0.5, loss_type='contrastive')\n",
    "anchor = torch.randn(4, 512)\n",
    "positive = torch.randn(4, 512)\n",
    "labels = torch.tensor([1, 1, 0, 0], dtype=torch.float)\n",
    "loss = loss_fn(F.normalize(anchor, dim=1), F.normalize(positive, dim=1), labels=labels)\n",
    "loss.item()"
   ]
  },
  {
   "cell_type": "code",
   "execution_count": 48,
   "id": "6a806cca-5a76-4cc7-a2df-87391b242796",
   "metadata": {},
   "outputs": [],
   "source": [
    "class ResumeJobDataset(Dataset):\n",
    "    def __init__(self, pairs_df, resume_df, job_df, tokenizer, max_length=256):\n",
    "        self.pairs_df = pairs_df\n",
    "        self.resume_df = resume_df\n",
    "        self.job_df = job_df\n",
    "        self.tokenizer = tokenizer\n",
    "        self.max_length = max_length\n",
    "        \n",
    "    def __len__(self):\n",
    "        return len(self.pairs_df)\n",
    "    \n",
    "    def __getitem__(self, idx):\n",
    "        pair = self.pairs_df.iloc[idx]\n",
    "        resume_id = pair['resume_id']\n",
    "        job_id = pair['job_id']\n",
    "        label = pair['label']\n",
    "        \n",
    "        # Get resume text\n",
    "        resume_text = self.resume_df.loc[self.resume_df['ID'] == resume_id, 'Resume_str'].values[0]\n",
    "        \n",
    "        # Get job text\n",
    "        job_title = self.job_df.loc[self.job_df['Job Id'] == job_id, 'Job Title'].values[0]\n",
    "        job_desc = self.job_df.loc[self.job_df['Job Id'] == job_id, 'Job Description'].values[0]\n",
    "        job_text = f\"{job_title}. {job_desc}\"\n",
    "        \n",
    "        # Tokenize\n",
    "        resume_encoding = self.tokenizer.encode_plus(\n",
    "            resume_text,\n",
    "            max_length=self.max_length,\n",
    "            padding='max_length',\n",
    "            truncation=True,\n",
    "            return_tensors='pt'\n",
    "        )\n",
    "        \n",
    "        job_encoding = self.tokenizer.encode_plus(\n",
    "            job_text,\n",
    "            max_length=self.max_length,\n",
    "            padding='max_length',\n",
    "            truncation=True,\n",
    "            return_tensors='pt'\n",
    "        )\n",
    "        \n",
    "        return {\n",
    "            'resume_input_ids': resume_encoding['input_ids'].squeeze(),\n",
    "            'resume_attention_mask': resume_encoding['attention_mask'].squeeze(),\n",
    "            'job_input_ids': job_encoding['input_ids'].squeeze(),\n",
    "            'job_attention_mask': job_encoding['attention_mask'].squeeze(),\n",
    "            'label': torch.tensor(label, dtype=torch.float)\n",
    "        }\n"
   ]
  },
  {
   "cell_type": "code",
   "execution_count": 53,
   "id": "2181d2fb-26a6-4887-9a43-49bd7e639ba0",
   "metadata": {},
   "outputs": [],
   "source": [
    "def load_data(pairs_path, resume_path, job_path):\n",
    "    pairs_df = pd.read_csv(pairs_path)\n",
    "    resume_df = pd.read_csv(resume_path)\n",
    "    job_df = pd.read_csv(job_path)\n",
    "    return pairs_df, resume_df, job_df"
   ]
  },
  {
   "cell_type": "code",
   "execution_count": 54,
   "id": "7826c283-ce14-40db-afed-cbcecadba0f2",
   "metadata": {},
   "outputs": [],
   "source": [
    "pairs_df, resume_df, job_df = load_data(\n",
    "        '/Users/gv/code/school/trustworthy_ai/archive/training_pairs/resume_job_pairs.csv',  # Path to pairs\n",
    "        '/Users/gv/code/school/trustworthy_ai/archive/Resume/Resume.csv',  # Path to resume data\n",
    "        '/Users/gv/code/school/trustworthy_ai/archive/Jobs/job_descriptions.csv',  # Path to the job\n",
    "    )\n",
    "\n",
    "tokenizer = AutoTokenizer.from_pretrained(\"distilbert-base-uncased\")\n",
    "dataset = ResumeJobDataset(pairs_df.head(2), resume_df, job_df, tokenizer)\n",
    "sample = dataset[0]"
   ]
  },
  {
   "cell_type": "code",
   "execution_count": 55,
   "id": "26045a78-f5e4-4b48-be63-181a0a250457",
   "metadata": {},
   "outputs": [
    {
     "name": "stdout",
     "output_type": "stream",
     "text": [
      "Sample keys: dict_keys(['resume_input_ids', 'resume_attention_mask', 'job_input_ids', 'job_attention_mask', 'label'])\n",
      "Resume input shape: torch.Size([256])\n"
     ]
    }
   ],
   "source": [
    "print(\"Sample keys:\", sample.keys())\n",
    "print(\"Resume input shape:\", sample['resume_input_ids'].shape)"
   ]
  },
  {
   "cell_type": "code",
   "execution_count": 58,
   "id": "81dca235-7d8d-4f50-8487-6f0c858e5502",
   "metadata": {},
   "outputs": [],
   "source": [
    "# Create train validation split\n",
    "\n",
    "def create_train_val_dataloaders(pairs_df, resume_df, job_df, tokenizer, batch_size=32, max_length=256, train_size=0.8):\n",
    "    #split into train and validation\n",
    "    train_df, val_df = train_test_split(\n",
    "        pairs_df,\n",
    "        train_size=train_size,\n",
    "        stratify=pairs_df['label'],\n",
    "        random_state=42\n",
    "    )\n",
    "\n",
    "    print(f\"Training set: {len(train_df)} pairs\")\n",
    "    print(f\"Validation set: {len(val_df)} pairs\")\n",
    "\n",
    "    train_dataset = ResumeJobDataset(\n",
    "        train_df, resume_df, job_df, tokenizer, max_length=max_length\n",
    "    )\n",
    "    val_dataset = ResumeJobDataset(\n",
    "        val_df, resume_df, job_df, tokenizer, max_length=max_length\n",
    "    )\n",
    "\n",
    "    train_loader = DataLoader(train_dataset, batch_size=batch_size, shuffle=True, num_workers=2)\n",
    "    val_loader = DataLoader(val_dataset, batch_size=batch_size, shuffle=False, num_workers=2)\n",
    "\n",
    "    return train_loader, val_loader"
   ]
  },
  {
   "cell_type": "code",
   "execution_count": 59,
   "id": "8fa94949-86c4-4b53-b0c7-65bc6eb6e843",
   "metadata": {},
   "outputs": [
    {
     "name": "stdout",
     "output_type": "stream",
     "text": [
      "Training set: 21544 pairs\n",
      "Validation set: 5386 pairs\n"
     ]
    }
   ],
   "source": [
    "train_loader, val_loader = create_train_val_dataloaders(pairs_df, resume_df, job_df, tokenizer)"
   ]
  },
  {
   "cell_type": "code",
   "execution_count": null,
   "id": "50e79f9f-ef80-4e73-b091-119ef58f9279",
   "metadata": {},
   "outputs": [],
   "source": []
  }
 ],
 "metadata": {
  "kernelspec": {
   "display_name": "Python 3 (ipykernel)",
   "language": "python",
   "name": "python3"
  },
  "language_info": {
   "codemirror_mode": {
    "name": "ipython",
    "version": 3
   },
   "file_extension": ".py",
   "mimetype": "text/x-python",
   "name": "python",
   "nbconvert_exporter": "python",
   "pygments_lexer": "ipython3",
   "version": "3.12.3"
  }
 },
 "nbformat": 4,
 "nbformat_minor": 5
}
