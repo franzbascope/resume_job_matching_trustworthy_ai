{
 "cells": [
  {
   "cell_type": "code",
   "execution_count": 24,
   "id": "51be6bd0-98cb-4ffd-9b54-7a323c50fb6b",
   "metadata": {},
   "outputs": [],
   "source": [
    "import pandas as pd\n",
    "import numpy as np\n",
    "import torch\n",
    "from torch import nn\n",
    "import torch.nn.functional as F\n",
    "from torch.utils.data import Dataset, DataLoader\n",
    "from sklearn.model_selection import train_test_split\n",
    "from transformers import AutoTokenizer, AutoModel, AdamW, get_linear_schedule_with_warmup"
   ]
  },
  {
   "cell_type": "code",
   "execution_count": 25,
   "id": "f5d7aa28-f047-416f-9982-90ce872d001d",
   "metadata": {},
   "outputs": [],
   "source": [
    "class ContrastiveModel(nn.Module):\n",
    "    def __init__(self, model_name='distilbert-base-uncased', embedding_dim=768):\n",
    "        super(ContrastiveModel, self).__init__()\n",
    "        self.encoder = AutoModel.from_pretrained(model_name)\n",
    "        self.proj = nn.Linear(embedding_dim, 512)\n",
    "\n",
    "    def mean_pooling(self, model_output, attention_mask):\n",
    "        # Average token embeddings\n",
    "        token_embeddings = model_output[0]\n",
    "        input_mask_expanded = attention_mask.unsqueeze(-1).expand(token_embeddings.size()).float()\n",
    "        sum_embeddings = torch.sum(token_embeddings * input_mask_expanded, 1)\n",
    "        sum_mask = torch.clamp(input_mask_expanded.sum(1), min=1e-9)\n",
    "        return sum_embeddings / sum_mask\n",
    "\n",
    "    def forward(self, input_ids, attention_mask):\n",
    "        # Forward pass\n",
    "\n",
    "        # Get contextual representations\n",
    "        outputs = self.encoder(input_ids=input_ids, attention_mask=attention_mask)\n",
    "\n",
    "        # Combine encoder outputs into one sentence level embedding\n",
    "        embeddings = self.mean_pooling(outputs, attention_mask)\n",
    "\n",
    "        # map embeddings from bert native to 512\n",
    "        embeddings = self.proj(embeddings)\n",
    "        # L2 normalization\n",
    "        embedding = F.normalize(embeddings, p=2, dim=1)\n",
    "\n",
    "        return embeddings"
   ]
  },
  {
   "cell_type": "code",
   "execution_count": 26,
   "id": "1aada0c0-433e-48a2-b658-4ebe9ca7aadf",
   "metadata": {},
   "outputs": [],
   "source": [
    "model = ContrastiveModel()\n",
    "test_id = torch.randint(0, 1000, (2,128))\n",
    "test_mask = torch.ones_like(test_id)\n",
    "embeddings = model(test_id, test_mask)"
   ]
  },
  {
   "cell_type": "code",
   "execution_count": 29,
   "id": "968ce4d2-d957-42df-87aa-f35d5b6319f6",
   "metadata": {},
   "outputs": [
    {
     "data": {
      "text/plain": [
       "torch.Size([2, 512])"
      ]
     },
     "execution_count": 29,
     "metadata": {},
     "output_type": "execute_result"
    }
   ],
   "source": [
    "embeddings.shape"
   ]
  },
  {
   "cell_type": "code",
   "execution_count": 43,
   "id": "4fc13378-cbf5-421b-a191-fd4830ec3287",
   "metadata": {},
   "outputs": [],
   "source": [
    "class ContrastiveLoss(nn.Module):\n",
    "    def __init__(self, margin=0.5, loss_type='contrastive'):\n",
    "        super(ContrastiveLoss, self).__init__()\n",
    "        self.margin = margin\n",
    "        self.loss_type = loss_type\n",
    "\n",
    "    def forward(self, anchor, positive, negative=None, labels=None):\n",
    "        if self.loss_type == 'contrastive':\n",
    "            distances = torch.norm(anchor - positive, dim=1)\n",
    "            \n",
    "            # For positive labels minimize, for negative ensure distance is at least margin\n",
    "            losses = labels * distances + (1 -labels) * F.relu(self.margin - distances)\n",
    "            return losses.mean()\n",
    "            \n",
    "        elif loss_type == 'cosine':\n",
    "            cos_sim = F.cosine_similarity(anchor, positive)\n",
    "            # maximize similarity\n",
    "            return -cos_sim.mean()\n",
    "        "
   ]
  },
  {
   "cell_type": "code",
   "execution_count": 47,
   "id": "24b36b92-04e1-41fb-91ea-dd9771d0fe4e",
   "metadata": {},
   "outputs": [
    {
     "data": {
      "text/plain": [
       "0.7039779424667358"
      ]
     },
     "execution_count": 47,
     "metadata": {},
     "output_type": "execute_result"
    }
   ],
   "source": [
    "loss_fn = ContrastiveLoss(margin=0.5, loss_type='contrastive')\n",
    "anchor = torch.randn(4, 512)\n",
    "positive = torch.randn(4, 512)\n",
    "labels = torch.tensor([1, 1, 0, 0], dtype=torch.float)\n",
    "loss = loss_fn(F.normalize(anchor, dim=1), F.normalize(positive, dim=1), labels=labels)\n",
    "loss.item()"
   ]
  },
  {
   "cell_type": "code",
   "execution_count": null,
   "id": "6a806cca-5a76-4cc7-a2df-87391b242796",
   "metadata": {},
   "outputs": [],
   "source": [
    "    "
   ]
  }
 ],
 "metadata": {
  "kernelspec": {
   "display_name": "Python 3 (ipykernel)",
   "language": "python",
   "name": "python3"
  },
  "language_info": {
   "codemirror_mode": {
    "name": "ipython",
    "version": 3
   },
   "file_extension": ".py",
   "mimetype": "text/x-python",
   "name": "python",
   "nbconvert_exporter": "python",
   "pygments_lexer": "ipython3",
   "version": "3.12.3"
  }
 },
 "nbformat": 4,
 "nbformat_minor": 5
}
